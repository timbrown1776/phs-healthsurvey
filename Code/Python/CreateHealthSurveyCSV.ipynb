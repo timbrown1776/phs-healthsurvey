{
 "cells": [
  {
   "cell_type": "markdown",
   "id": "d2a876f2",
   "metadata": {},
   "source": [
    "## Import Libraries"
   ]
  },
  {
   "cell_type": "code",
   "execution_count": 1,
   "id": "199de290",
   "metadata": {},
   "outputs": [],
   "source": [
    "import pandas as pd\n",
    "\n",
    "#Ignore the warnings that pandas is giving about dataframe performance\n",
    "from warnings import simplefilter\n",
    "simplefilter(action=\"ignore\", category=pd.errors.PerformanceWarning)"
   ]
  },
  {
   "cell_type": "markdown",
   "id": "3ebede07",
   "metadata": {},
   "source": [
    "## Load Data"
   ]
  },
  {
   "cell_type": "code",
   "execution_count": 3,
   "id": "d0514eb4",
   "metadata": {},
   "outputs": [],
   "source": [
    "#Read SAS file into a dataframe\n",
    "data_file='data/LLCP2021.XPT'\n",
    "df = pd.read_sas(data_file)"
   ]
  },
  {
   "cell_type": "markdown",
   "id": "bc74f28c",
   "metadata": {},
   "source": [
    "## Clean Data"
   ]
  },
  {
   "cell_type": "code",
   "execution_count": 4,
   "id": "c7e378d5",
   "metadata": {},
   "outputs": [
    {
     "name": "stderr",
     "output_type": "stream",
     "text": [
      "C:\\Users\\timbr\\Anaconda3\\envs\\CSE6742\\lib\\site-packages\\ipykernel_launcher.py:4: SettingWithCopyWarning: \n",
      "A value is trying to be set on a copy of a slice from a DataFrame\n",
      "\n",
      "See the caveats in the documentation: https://pandas.pydata.org/pandas-docs/stable/user_guide/indexing.html#returning-a-view-versus-a-copy\n",
      "  after removing the cwd from sys.path.\n"
     ]
    }
   ],
   "source": [
    "## Make any float values 0 if between 0 - 1 (Many Var 0 value responses are being read as 5.397605346934028e-79)\n",
    "for col in df.columns:\n",
    "    if df[col].dtype == 'float64':\n",
    "        df[col][(df[col] < 1.0) & (df[col] > 0.0)] = 0.0"
   ]
  },
  {
   "cell_type": "markdown",
   "id": "2e30307e",
   "metadata": {},
   "source": [
    "## Store Data"
   ]
  },
  {
   "cell_type": "code",
   "execution_count": 5,
   "id": "bbddc3af",
   "metadata": {},
   "outputs": [],
   "source": [
    "df.to_csv('C:\\_GitHub\\phs-healthsurvey\\Code\\SQL\\Data\\healthsurvey.csv', index=False)"
   ]
  }
 ],
 "metadata": {
  "kernelspec": {
   "display_name": "Python [conda env:CSE6742]",
   "language": "python",
   "name": "conda-env-CSE6742-py"
  },
  "language_info": {
   "codemirror_mode": {
    "name": "ipython",
    "version": 3
   },
   "file_extension": ".py",
   "mimetype": "text/x-python",
   "name": "python",
   "nbconvert_exporter": "python",
   "pygments_lexer": "ipython3",
   "version": "3.7.1"
  }
 },
 "nbformat": 4,
 "nbformat_minor": 5
}
