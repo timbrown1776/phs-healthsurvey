{
 "cells": [
  {
   "cell_type": "code",
   "execution_count": 1,
   "id": "f8fd1e3c",
   "metadata": {},
   "outputs": [
    {
     "name": "stdout",
     "output_type": "stream",
     "text": [
      "https://phs-chd.s3.amazonaws.com/team134_top10.sav\n"
     ]
    }
   ],
   "source": [
    "s3bucket_url = 'https://phs-chd.s3.amazonaws.com/'\n",
    "data_path = s3bucket_url + 'CHDPositiveData.csv'\n",
    "model_path = s3bucket_url + 'team134_top10.sav'\n",
    "heart = s3bucket_url + 'heart.jpg'\n",
    "print(model_path)"
   ]
  }
 ],
 "metadata": {
  "kernelspec": {
   "display_name": "Python [conda env:root] *",
   "language": "python",
   "name": "conda-root-py"
  },
  "language_info": {
   "codemirror_mode": {
    "name": "ipython",
    "version": 3
   },
   "file_extension": ".py",
   "mimetype": "text/x-python",
   "name": "python",
   "nbconvert_exporter": "python",
   "pygments_lexer": "ipython3",
   "version": "3.7.13"
  }
 },
 "nbformat": 4,
 "nbformat_minor": 5
}
