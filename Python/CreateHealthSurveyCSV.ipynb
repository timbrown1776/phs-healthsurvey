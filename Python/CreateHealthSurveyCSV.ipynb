{
 "cells": [
  {
   "cell_type": "code",
   "execution_count": 1,
   "id": "d0514eb4",
   "metadata": {},
   "outputs": [],
   "source": [
    "import pandas as pd\n",
    "#Ignore the warnings that pandas is giving about dataframe performance\n",
    "from warnings import simplefilter\n",
    "simplefilter(action=\"ignore\", category=pd.errors.PerformanceWarning)\n",
    "data_file='data/LLCP2021.XPT'\n",
    "#Read SAS file into a dataframe\n",
    "# df = pd.read_sas('data/LLCP2021.XPT')\n",
    "df = pd.read_sas(data_file)\n",
    "#print(df)"
   ]
  },
  {
   "cell_type": "code",
   "execution_count": 2,
   "id": "bbddc3af",
   "metadata": {},
   "outputs": [],
   "source": [
    "df.to_csv('data\\healthsurvey.csv', index=False)"
   ]
  }
 ],
 "metadata": {
  "kernelspec": {
   "display_name": "Python [conda env:CSE6742]",
   "language": "python",
   "name": "conda-env-CSE6742-py"
  },
  "language_info": {
   "codemirror_mode": {
    "name": "ipython",
    "version": 3
   },
   "file_extension": ".py",
   "mimetype": "text/x-python",
   "name": "python",
   "nbconvert_exporter": "python",
   "pygments_lexer": "ipython3",
   "version": "3.7.1"
  }
 },
 "nbformat": 4,
 "nbformat_minor": 5
}
